{
 "cells": [
  {
   "cell_type": "code",
   "execution_count": 3,
   "id": "9b85db60",
   "metadata": {},
   "outputs": [],
   "source": [
    "from keras.models import Sequential\n",
    "from keras.layers import Dense, BatchNormalization\n",
    "import pandas as pd\n",
    "import numpy as np\n",
    "\n",
    "df = pd.read_csv(\"full_dataset.csv\")\n",
    "df = df.drop(columns=['FIPS', 'mean_household_income', 'proportion_renters_35perc_income',\n",
    "                      'proportion_bachelors_or_greater', 'opioid_prescriptions_per_100',\n",
    "                      'employee_diff', 'payroll_diff'])\n",
    "# dropping cols with missing data, or otherwise unnecessary\n",
    "df = df.apply(lambda x: x.astype(float))# converting each column to float\n",
    "\n",
    "n_counties = df.shape[0]//10# allocating 1 row per county\n",
    "n_features = df.shape[1] - 2# taking away the Year and next_year_deaths features"
   ]
  },
  {
   "cell_type": "code",
   "execution_count": null,
   "id": "e0c001b1",
   "metadata": {},
   "outputs": [],
   "source": [
    "def allocate_data(year):# ????????\n",
    "    X = np.ndarray((8, n_counties, n_features))# 9 years in our model, but 10 years in the spreadsheet\n",
    "    y = np.ndarray((8, n_counties))\n",
    "    for i in range(8):\n",
    "        X[i] = df.loc[df['Year'] == 2010 + i].drop(columns=['Year', 'next_year_deaths_per_100000'])\n",
    "        y[i] = df.loc[df['Year'] == 2010 + i]['next_year_deaths_per_100000']"
   ]
  },
  {
   "cell_type": "code",
   "execution_count": 4,
   "id": "fa9b283a",
   "metadata": {},
   "outputs": [
    {
     "name": "stderr",
     "output_type": "stream",
     "text": [
      "2022-02-10 14:25:47.515598: I tensorflow/core/platform/cpu_feature_guard.cc:151] This TensorFlow binary is optimized with oneAPI Deep Neural Network Library (oneDNN) to use the following CPU instructions in performance-critical operations:  AVX2 FMA\n",
      "To enable them in other operations, rebuild TensorFlow with the appropriate compiler flags.\n"
     ]
    }
   ],
   "source": [
    "model = Sequential(\n",
    "    [\n",
    "        BatchNormalization(),\n",
    "        Dense(16, activation = 'relu', input_shape=(n_counties, n_features)),\n",
    "        Dense(16, activation = 'relu'),\n",
    "        Dense(1, activation = 'relu')\n",
    "    ]\n",
    ")\n",
    "model.compile(loss='mse', metrics=['mae'])"
   ]
  },
  {
   "cell_type": "code",
   "execution_count": 5,
   "id": "2dcb9c96",
   "metadata": {
    "scrolled": true
   },
   "outputs": [
    {
     "name": "stdout",
     "output_type": "stream",
     "text": [
      "Epoch 1/20\n",
      "1/1 [==============================] - 1s 701ms/step - loss: 295.6668 - mae: 13.7667\n",
      "Epoch 2/20\n",
      "1/1 [==============================] - 0s 8ms/step - loss: 294.8015 - mae: 13.7488\n",
      "Epoch 3/20\n",
      "1/1 [==============================] - 0s 10ms/step - loss: 293.9830 - mae: 13.7301\n",
      "Epoch 4/20\n",
      "1/1 [==============================] - 0s 11ms/step - loss: 293.1298 - mae: 13.7093\n",
      "Epoch 5/20\n",
      "1/1 [==============================] - 0s 9ms/step - loss: 292.1837 - mae: 13.6856\n",
      "Epoch 6/20\n",
      "1/1 [==============================] - 0s 10ms/step - loss: 291.1123 - mae: 13.6589\n",
      "Epoch 7/20\n",
      "1/1 [==============================] - 0s 10ms/step - loss: 289.9631 - mae: 13.6303\n",
      "Epoch 8/20\n",
      "1/1 [==============================] - 0s 9ms/step - loss: 288.7803 - mae: 13.6009\n",
      "Epoch 9/20\n",
      "1/1 [==============================] - 0s 10ms/step - loss: 287.6055 - mae: 13.5715\n",
      "Epoch 10/20\n",
      "1/1 [==============================] - 0s 10ms/step - loss: 286.4202 - mae: 13.5416\n",
      "Epoch 11/20\n",
      "1/1 [==============================] - 0s 9ms/step - loss: 285.2114 - mae: 13.5109\n",
      "Epoch 12/20\n",
      "1/1 [==============================] - 0s 10ms/step - loss: 283.9961 - mae: 13.4800\n",
      "Epoch 13/20\n",
      "1/1 [==============================] - 0s 10ms/step - loss: 282.7843 - mae: 13.4491\n",
      "Epoch 14/20\n",
      "1/1 [==============================] - 0s 8ms/step - loss: 281.5880 - mae: 13.4183\n",
      "Epoch 15/20\n",
      "1/1 [==============================] - 0s 10ms/step - loss: 280.4041 - mae: 13.3878\n",
      "Epoch 16/20\n",
      "1/1 [==============================] - 0s 7ms/step - loss: 279.2334 - mae: 13.3576\n",
      "Epoch 17/20\n",
      "1/1 [==============================] - 0s 8ms/step - loss: 278.0743 - mae: 13.3274\n",
      "Epoch 18/20\n",
      "1/1 [==============================] - 0s 9ms/step - loss: 276.9298 - mae: 13.2975\n",
      "Epoch 19/20\n",
      "1/1 [==============================] - 0s 7ms/step - loss: 275.7980 - mae: 13.2678\n",
      "Epoch 20/20\n",
      "1/1 [==============================] - 0s 9ms/step - loss: 274.6757 - mae: 13.2381\n"
     ]
    },
    {
     "data": {
      "text/plain": [
       "<keras.callbacks.History at 0x150d53820>"
      ]
     },
     "execution_count": 5,
     "metadata": {},
     "output_type": "execute_result"
    }
   ],
   "source": [
    "model.fit(X, y, epochs=20)"
   ]
  },
  {
   "cell_type": "code",
   "execution_count": 8,
   "id": "a5e10974",
   "metadata": {},
   "outputs": [],
   "source": [
    "X_test = np.ndarray((1, n_counties, n_features))\n",
    "X_test[0] = df.loc[df['Year'] == 2018].drop(columns=['Year', 'next_year_deaths_per_100000'])\n",
    "y_test = df.loc[df['Year'] == 2018]['next_year_deaths_per_100000']\n",
    "y_predicted = model.predict(X_test)"
   ]
  },
  {
   "cell_type": "code",
   "execution_count": 9,
   "id": "ea9c5adf",
   "metadata": {},
   "outputs": [
    {
     "data": {
      "text/plain": [
       "11.358794151147388"
      ]
     },
     "execution_count": 9,
     "metadata": {},
     "output_type": "execute_result"
    }
   ],
   "source": [
    "np.mean(np.absolute(y_test - y_predicted[0,:,0]))"
   ]
  }
 ],
 "metadata": {
  "kernelspec": {
   "display_name": "Python 3 (ipykernel)",
   "language": "python",
   "name": "python3"
  },
  "language_info": {
   "codemirror_mode": {
    "name": "ipython",
    "version": 3
   },
   "file_extension": ".py",
   "mimetype": "text/x-python",
   "name": "python",
   "nbconvert_exporter": "python",
   "pygments_lexer": "ipython3",
   "version": "3.9.9"
  }
 },
 "nbformat": 4,
 "nbformat_minor": 5
}
