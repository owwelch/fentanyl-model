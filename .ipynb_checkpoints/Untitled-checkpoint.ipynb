{
 "cells": [
  {
   "cell_type": "code",
   "execution_count": 3,
   "id": "9b85db60",
   "metadata": {},
   "outputs": [],
   "source": [
    "from keras.models import Sequential\n",
    "from keras.layers import Dense, BatchNormalization\n",
    "import pandas as pd\n",
    "import numpy as np\n",
    "\n",
    "df = pd.read_csv(\"full_dataset.csv\")\n",
    "df = df.drop(columns=['FIPS', 'county_name', 'state_abbr', 'state_name',\n",
    "                      'state_FIPS', 'county_FIPS', 'state'])# dropping unnecessary cols\n",
    "df = df.drop(columns=['mean_household_income', 'proportion_renters_35perc_income',\n",
    "                      'proportion_black', 'proportion_american_indian_alaska_native', 'proportion_asian',\n",
    "                      'proportion_native_hawaiian_pacific_islander', 'proportion_bachelors_or_greater',\n",
    "                      'opioid_prescriptions_per_100', 'employee_diff', 'payroll_diff'])# dropping cols with missing data\n",
    "df = df.apply(lambda x: x.astype(float))# converting each column to float\n",
    "\n",
    "n_counties = df.shape[0]//10# allocating 1 row per county, and taking away the Year and next_year_deaths features\n",
    "n_features = df.shape[1] - 2\n",
    "X = np.ndarray((8, n_counties, n_features))# 9 years in our model, but 10 years in the spreadsheet\n",
    "y = np.ndarray((8, n_counties))\n",
    "\n",
    "for i in range(8):\n",
    "    X[i] = df.loc[df['Year'] == 2010 + i].drop(columns=['Year', 'next_year_deaths'])\n",
    "    y[i] = df.loc[df['Year'] == 2010 + i]['next_year_deaths']\n"
   ]
  },
  {
   "cell_type": "code",
   "execution_count": 5,
   "id": "fa9b283a",
   "metadata": {},
   "outputs": [],
   "source": [
    "model = Sequential(\n",
    "    [\n",
    "        BatchNormalization(),\n",
    "        Dense(16, activation = 'relu', input_shape=(n_counties, df.shape[1]-2)),\n",
    "        Dense(16, activation = 'relu'),\n",
    "        Dense(1, activation = 'relu')\n",
    "    ]\n",
    ")\n",
    "model.compile(loss='mse', metrics=['mae'])"
   ]
  },
  {
   "cell_type": "code",
   "execution_count": 6,
   "id": "2dcb9c96",
   "metadata": {
    "scrolled": true
   },
   "outputs": [
    {
     "name": "stdout",
     "output_type": "stream",
     "text": [
      "Epoch 1/20\n",
      "1/1 [==============================] - 1s 643ms/step - loss: 2978.4434 - mae: 17.0782\n",
      "Epoch 2/20\n",
      "1/1 [==============================] - 0s 8ms/step - loss: 2976.8638 - mae: 17.0509\n",
      "Epoch 3/20\n",
      "1/1 [==============================] - 0s 8ms/step - loss: 2974.6479 - mae: 17.0213\n",
      "Epoch 4/20\n",
      "1/1 [==============================] - 0s 11ms/step - loss: 2971.4678 - mae: 16.9886\n",
      "Epoch 5/20\n",
      "1/1 [==============================] - 0s 12ms/step - loss: 2967.5364 - mae: 16.9535\n",
      "Epoch 6/20\n",
      "1/1 [==============================] - 0s 10ms/step - loss: 2963.1487 - mae: 16.9175\n",
      "Epoch 7/20\n",
      "1/1 [==============================] - 0s 10ms/step - loss: 2958.6160 - mae: 16.8814\n",
      "Epoch 8/20\n",
      "1/1 [==============================] - 0s 10ms/step - loss: 2954.2808 - mae: 16.8463\n",
      "Epoch 9/20\n",
      "1/1 [==============================] - 0s 9ms/step - loss: 2950.1836 - mae: 16.8124\n",
      "Epoch 10/20\n",
      "1/1 [==============================] - 0s 9ms/step - loss: 2946.2332 - mae: 16.7793\n",
      "Epoch 11/20\n",
      "1/1 [==============================] - 0s 10ms/step - loss: 2942.3418 - mae: 16.7468\n",
      "Epoch 12/20\n",
      "1/1 [==============================] - 0s 9ms/step - loss: 2938.5044 - mae: 16.7147\n",
      "Epoch 13/20\n",
      "1/1 [==============================] - 0s 10ms/step - loss: 2934.7192 - mae: 16.6831\n",
      "Epoch 14/20\n",
      "1/1 [==============================] - 0s 10ms/step - loss: 2930.9307 - mae: 16.6518\n",
      "Epoch 15/20\n",
      "1/1 [==============================] - 0s 8ms/step - loss: 2927.1357 - mae: 16.6206\n",
      "Epoch 16/20\n",
      "1/1 [==============================] - 0s 7ms/step - loss: 2923.3396 - mae: 16.5895\n",
      "Epoch 17/20\n",
      "1/1 [==============================] - 0s 8ms/step - loss: 2919.5322 - mae: 16.5586\n",
      "Epoch 18/20\n",
      "1/1 [==============================] - 0s 7ms/step - loss: 2915.7153 - mae: 16.5277\n",
      "Epoch 19/20\n",
      "1/1 [==============================] - 0s 9ms/step - loss: 2911.8799 - mae: 16.4969\n",
      "Epoch 20/20\n",
      "1/1 [==============================] - 0s 9ms/step - loss: 2908.0244 - mae: 16.4662\n"
     ]
    },
    {
     "data": {
      "text/plain": [
       "<keras.callbacks.History at 0x153de5c70>"
      ]
     },
     "execution_count": 6,
     "metadata": {},
     "output_type": "execute_result"
    }
   ],
   "source": [
    "model.fit(X, y, epochs=20)"
   ]
  },
  {
   "cell_type": "code",
   "execution_count": 7,
   "id": "a5e10974",
   "metadata": {},
   "outputs": [],
   "source": [
    "X_test = np.ndarray((1, n_counties, n_features))\n",
    "X_test[0] = df.loc[df['Year'] == 2018].drop(columns=['Year', 'next_year_deaths'])\n",
    "y_test = df.loc[df['Year'] == 2018]['next_year_deaths']\n",
    "y_predicted = model.predict(X_test)"
   ]
  },
  {
   "cell_type": "code",
   "execution_count": 8,
   "id": "ea9c5adf",
   "metadata": {},
   "outputs": [
    {
     "data": {
      "text/plain": [
       "22.458927016577064"
      ]
     },
     "execution_count": 8,
     "metadata": {},
     "output_type": "execute_result"
    }
   ],
   "source": [
    "np.mean(np.absolute(y_test - y_predicted[0,:,0]))"
   ]
  }
 ],
 "metadata": {
  "kernelspec": {
   "display_name": "Python 3 (ipykernel)",
   "language": "python",
   "name": "python3"
  },
  "language_info": {
   "codemirror_mode": {
    "name": "ipython",
    "version": 3
   },
   "file_extension": ".py",
   "mimetype": "text/x-python",
   "name": "python",
   "nbconvert_exporter": "python",
   "pygments_lexer": "ipython3",
   "version": "3.9.9"
  }
 },
 "nbformat": 4,
 "nbformat_minor": 5
}
