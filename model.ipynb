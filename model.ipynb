{
 "cells": [
  {
   "cell_type": "code",
   "execution_count": 1,
   "id": "9b85db60",
   "metadata": {},
   "outputs": [],
   "source": [
    "from keras.models import Sequential\n",
    "from keras.layers import Dense, BatchNormalization\n",
    "import pandas as pd\n",
    "import numpy as np\n",
    "\n",
    "df = pd.read_csv(\"full_dataset.csv\")\n",
    "df = df.drop(columns=['FIPS', 'mean_household_income', 'proportion_renters_35perc_income',\n",
    "                      'proportion_bachelors_or_greater', 'opioid_prescriptions_per_100',\n",
    "                      'employee_diff', 'payroll_diff'])\n",
    "# dropping cols with missing data, or otherwise unnecessary\n",
    "df = df.apply(lambda x: x.astype(float))# converting each column to float\n",
    "\n",
    "n_counties = df.shape[0]//10# allocating 1 row per county\n",
    "n_features = df.shape[1] - 2# taking away the Year and next_year_deaths features"
   ]
  },
  {
   "cell_type": "code",
   "execution_count": 2,
   "id": "1d431720",
   "metadata": {},
   "outputs": [],
   "source": [
    "def allocate_data(target_year):#allocates data to predict deaths from target_year\n",
    "    n_samples = target_year - 2010\n",
    "    X = np.ndarray((n_samples, n_counties, n_features))# 9 years in our model, but 10 years in the spreadsheet\n",
    "    y = np.ndarray((n_samples, n_counties))\n",
    "    for i in range(n_samples):\n",
    "        X[i] = df.loc[df['Year'] == 2010 + i].drop(columns=['Year', 'next_year_deaths_per_100000'])\n",
    "        y[i] = df.loc[df['Year'] == 2010 + i]['next_year_deaths_per_100000']\n",
    "    X_test = np.ndarray((1, n_counties, n_features))\n",
    "    X_test[0] = df.loc[df['Year'] == target_year].drop(columns=['Year', 'next_year_deaths_per_100000'])\n",
    "    y_test = df.loc[df['Year'] == target_year]['next_year_deaths_per_100000']\n",
    "    return X, y, X_test, y_test"
   ]
  },
  {
   "cell_type": "code",
   "execution_count": 6,
   "id": "8dd05d8e",
   "metadata": {
    "scrolled": true
   },
   "outputs": [
    {
     "name": "stdout",
     "output_type": "stream",
     "text": [
      "Epoch 1/20\n",
      "1/1 [==============================] - 1s 620ms/step - loss: 205.2262 - mae: 11.5135\n",
      "Epoch 2/20\n",
      "1/1 [==============================] - 0s 6ms/step - loss: 202.6189 - mae: 11.4198\n",
      "Epoch 3/20\n",
      "1/1 [==============================] - 0s 5ms/step - loss: 200.5367 - mae: 11.3447\n",
      "Epoch 4/20\n",
      "1/1 [==============================] - 0s 4ms/step - loss: 198.7182 - mae: 11.2788\n",
      "Epoch 5/20\n",
      "1/1 [==============================] - 0s 6ms/step - loss: 197.0781 - mae: 11.2190\n",
      "Epoch 6/20\n",
      "1/1 [==============================] - 0s 6ms/step - loss: 195.5423 - mae: 11.1628\n",
      "Epoch 7/20\n",
      "1/1 [==============================] - 0s 6ms/step - loss: 194.0820 - mae: 11.1094\n",
      "Epoch 8/20\n",
      "1/1 [==============================] - 0s 4ms/step - loss: 192.6798 - mae: 11.0581\n",
      "Epoch 9/20\n",
      "1/1 [==============================] - 0s 5ms/step - loss: 191.3208 - mae: 11.0082\n",
      "Epoch 10/20\n",
      "1/1 [==============================] - 0s 5ms/step - loss: 189.9950 - mae: 10.9594\n",
      "Epoch 11/20\n",
      "1/1 [==============================] - 0s 5ms/step - loss: 188.6965 - mae: 10.9116\n",
      "Epoch 12/20\n",
      "1/1 [==============================] - 0s 8ms/step - loss: 187.4191 - mae: 10.8643\n",
      "Epoch 13/20\n",
      "1/1 [==============================] - 0s 4ms/step - loss: 186.1547 - mae: 10.8175\n",
      "Epoch 14/20\n",
      "1/1 [==============================] - 0s 7ms/step - loss: 184.9068 - mae: 10.7711\n",
      "Epoch 15/20\n",
      "1/1 [==============================] - 0s 5ms/step - loss: 183.6656 - mae: 10.7249\n",
      "Epoch 16/20\n",
      "1/1 [==============================] - 0s 5ms/step - loss: 182.4323 - mae: 10.6788\n",
      "Epoch 17/20\n",
      "1/1 [==============================] - 0s 4ms/step - loss: 181.2070 - mae: 10.6328\n",
      "Epoch 18/20\n",
      "1/1 [==============================] - 0s 5ms/step - loss: 179.9843 - mae: 10.5867\n",
      "Epoch 19/20\n",
      "1/1 [==============================] - 0s 6ms/step - loss: 178.7618 - mae: 10.5404\n",
      "Epoch 20/20\n",
      "1/1 [==============================] - 0s 5ms/step - loss: 177.5431 - mae: 10.4939\n"
     ]
    },
    {
     "data": {
      "text/plain": [
       "5.795929705160734"
      ]
     },
     "execution_count": 6,
     "metadata": {},
     "output_type": "execute_result"
    }
   ],
   "source": [
    "X, y, X_test, y_test = allocate_data(2013)\n",
    "\n",
    "model = Sequential(\n",
    "    [\n",
    "        BatchNormalization(),\n",
    "        Dense(16, activation = 'relu', input_shape=(n_counties, n_features)),\n",
    "        Dense(16, activation = 'relu'),\n",
    "        Dense(1, activation = 'relu')\n",
    "    ]\n",
    ")\n",
    "\n",
    "model.compile(loss='mse', metrics=['mae'])\n",
    "model.fit(X, y, epochs=20)\n",
    "y_predicted = model.predict(X_test)\n",
    "np.mean(np.absolute(y_test - y_predicted[0,:,0]))"
   ]
  },
  {
   "cell_type": "code",
   "execution_count": 14,
   "id": "22af46d9",
   "metadata": {},
   "outputs": [
    {
     "name": "stdout",
     "output_type": "stream",
     "text": [
      "Epoch 1/40\n",
      "1/1 [==============================] - 1s 599ms/step - loss: 216.6498 - mae: 11.9267\n",
      "Epoch 2/40\n",
      "1/1 [==============================] - 0s 5ms/step - loss: 216.5850 - mae: 11.9247\n",
      "Epoch 3/40\n",
      "1/1 [==============================] - 0s 6ms/step - loss: 216.4877 - mae: 11.9217\n",
      "Epoch 4/40\n",
      "1/1 [==============================] - 0s 6ms/step - loss: 216.3508 - mae: 11.9175\n",
      "Epoch 5/40\n",
      "1/1 [==============================] - 0s 4ms/step - loss: 216.1659 - mae: 11.9117\n",
      "Epoch 6/40\n",
      "1/1 [==============================] - 0s 5ms/step - loss: 215.9339 - mae: 11.9046\n",
      "Epoch 7/40\n",
      "1/1 [==============================] - 0s 5ms/step - loss: 215.6491 - mae: 11.8959\n",
      "Epoch 8/40\n",
      "1/1 [==============================] - 0s 4ms/step - loss: 215.3126 - mae: 11.8856\n",
      "Epoch 9/40\n",
      "1/1 [==============================] - 0s 7ms/step - loss: 214.9256 - mae: 11.8736\n",
      "Epoch 10/40\n",
      "1/1 [==============================] - 0s 6ms/step - loss: 214.5078 - mae: 11.8605\n",
      "Epoch 11/40\n",
      "1/1 [==============================] - 0s 7ms/step - loss: 214.0698 - mae: 11.8467\n",
      "Epoch 12/40\n",
      "1/1 [==============================] - 0s 4ms/step - loss: 213.6156 - mae: 11.8323\n",
      "Epoch 13/40\n",
      "1/1 [==============================] - 0s 7ms/step - loss: 213.1553 - mae: 11.8177\n",
      "Epoch 14/40\n",
      "1/1 [==============================] - 0s 4ms/step - loss: 212.6924 - mae: 11.8029\n",
      "Epoch 15/40\n",
      "1/1 [==============================] - 0s 4ms/step - loss: 212.2226 - mae: 11.7878\n",
      "Epoch 16/40\n",
      "1/1 [==============================] - 0s 7ms/step - loss: 211.7460 - mae: 11.7725\n",
      "Epoch 17/40\n",
      "1/1 [==============================] - 0s 5ms/step - loss: 211.2578 - mae: 11.7569\n",
      "Epoch 18/40\n",
      "1/1 [==============================] - 0s 7ms/step - loss: 210.7610 - mae: 11.7411\n",
      "Epoch 19/40\n",
      "1/1 [==============================] - 0s 4ms/step - loss: 210.2598 - mae: 11.7250\n",
      "Epoch 20/40\n",
      "1/1 [==============================] - 0s 5ms/step - loss: 209.7556 - mae: 11.7089\n",
      "Epoch 21/40\n",
      "1/1 [==============================] - 0s 4ms/step - loss: 209.2442 - mae: 11.6926\n",
      "Epoch 22/40\n",
      "1/1 [==============================] - 0s 4ms/step - loss: 208.7257 - mae: 11.6760\n",
      "Epoch 23/40\n",
      "1/1 [==============================] - 0s 8ms/step - loss: 208.2042 - mae: 11.6593\n",
      "Epoch 24/40\n",
      "1/1 [==============================] - 0s 5ms/step - loss: 207.6790 - mae: 11.6424\n",
      "Epoch 25/40\n",
      "1/1 [==============================] - 0s 7ms/step - loss: 207.1483 - mae: 11.6253\n",
      "Epoch 26/40\n",
      "1/1 [==============================] - 0s 4ms/step - loss: 206.6138 - mae: 11.6080\n",
      "Epoch 27/40\n",
      "1/1 [==============================] - 0s 5ms/step - loss: 206.0757 - mae: 11.5905\n",
      "Epoch 28/40\n",
      "1/1 [==============================] - 0s 4ms/step - loss: 205.5293 - mae: 11.5727\n",
      "Epoch 29/40\n",
      "1/1 [==============================] - 0s 5ms/step - loss: 204.9738 - mae: 11.5546\n",
      "Epoch 30/40\n",
      "1/1 [==============================] - 0s 7ms/step - loss: 204.4095 - mae: 11.5362\n",
      "Epoch 31/40\n",
      "1/1 [==============================] - 0s 5ms/step - loss: 203.8358 - mae: 11.5173\n",
      "Epoch 32/40\n",
      "1/1 [==============================] - 0s 6ms/step - loss: 203.2506 - mae: 11.4981\n",
      "Epoch 33/40\n",
      "1/1 [==============================] - 0s 5ms/step - loss: 202.6553 - mae: 11.4784\n",
      "Epoch 34/40\n",
      "1/1 [==============================] - 0s 6ms/step - loss: 202.0534 - mae: 11.4583\n",
      "Epoch 35/40\n",
      "1/1 [==============================] - 0s 5ms/step - loss: 201.4425 - mae: 11.4380\n",
      "Epoch 36/40\n",
      "1/1 [==============================] - 0s 5ms/step - loss: 200.8258 - mae: 11.4174\n",
      "Epoch 37/40\n",
      "1/1 [==============================] - 0s 5ms/step - loss: 200.2000 - mae: 11.3964\n",
      "Epoch 38/40\n",
      "1/1 [==============================] - 0s 5ms/step - loss: 199.5648 - mae: 11.3751\n",
      "Epoch 39/40\n",
      "1/1 [==============================] - 0s 6ms/step - loss: 198.9230 - mae: 11.3534\n",
      "Epoch 40/40\n",
      "1/1 [==============================] - 0s 4ms/step - loss: 198.2688 - mae: 11.3312\n"
     ]
    },
    {
     "data": {
      "text/plain": [
       "11.822468733204875"
      ]
     },
     "execution_count": 14,
     "metadata": {},
     "output_type": "execute_result"
    }
   ],
   "source": [
    "#tuning metaparameters\n",
    "X, y, X_test, y_test = allocate_data(2013)\n",
    "\n",
    "model = Sequential(\n",
    "    [\n",
    "        BatchNormalization(),\n",
    "        Dense(16, activation = 'relu', input_shape=(n_counties, n_features)),\n",
    "        Dense(16, activation = 'relu'),\n",
    "        Dense(1, activation = 'relu')\n",
    "    ]\n",
    ")\n",
    "\n",
    "model.compile(loss='mse', metrics=['mae'])\n",
    "model.fit(X, y, epochs=40)\n",
    "y_predicted = model.predict(X_test)\n",
    "np.mean(np.absolute(y_test - y_predicted[0,:,0]))"
   ]
  },
  {
   "cell_type": "code",
   "execution_count": 16,
   "id": "fa9b283a",
   "metadata": {
    "scrolled": true
   },
   "outputs": [
    {
     "name": "stdout",
     "output_type": "stream",
     "text": [
      "Epoch 1/20\n",
      "1/1 [==============================] - 1s 572ms/step - loss: 219.8228 - mae: 12.0331\n",
      "Epoch 2/20\n",
      "1/1 [==============================] - 0s 8ms/step - loss: 218.9009 - mae: 12.0104\n",
      "Epoch 3/20\n",
      "1/1 [==============================] - 0s 6ms/step - loss: 218.1052 - mae: 11.9899\n",
      "Epoch 4/20\n",
      "1/1 [==============================] - 0s 6ms/step - loss: 217.3573 - mae: 11.9702\n",
      "Epoch 5/20\n",
      "1/1 [==============================] - 0s 6ms/step - loss: 216.6345 - mae: 11.9508\n",
      "Epoch 6/20\n",
      "1/1 [==============================] - 0s 7ms/step - loss: 215.9187 - mae: 11.9313\n",
      "Epoch 7/20\n",
      "1/1 [==============================] - 0s 6ms/step - loss: 215.2048 - mae: 11.9115\n",
      "Epoch 8/20\n",
      "1/1 [==============================] - 0s 7ms/step - loss: 214.4796 - mae: 11.8911\n",
      "Epoch 9/20\n",
      "1/1 [==============================] - 0s 6ms/step - loss: 213.7386 - mae: 11.8699\n",
      "Epoch 10/20\n",
      "1/1 [==============================] - 0s 7ms/step - loss: 212.9834 - mae: 11.8479\n",
      "Epoch 11/20\n",
      "1/1 [==============================] - 0s 6ms/step - loss: 212.2144 - mae: 11.8252\n",
      "Epoch 12/20\n",
      "1/1 [==============================] - 0s 9ms/step - loss: 211.4252 - mae: 11.8015\n",
      "Epoch 13/20\n",
      "1/1 [==============================] - 0s 6ms/step - loss: 210.6017 - mae: 11.7767\n",
      "Epoch 14/20\n",
      "1/1 [==============================] - 0s 7ms/step - loss: 209.7490 - mae: 11.7508\n",
      "Epoch 15/20\n",
      "1/1 [==============================] - 0s 7ms/step - loss: 208.8789 - mae: 11.7241\n",
      "Epoch 16/20\n",
      "1/1 [==============================] - 0s 6ms/step - loss: 208.0092 - mae: 11.6972\n",
      "Epoch 17/20\n",
      "1/1 [==============================] - 0s 7ms/step - loss: 207.1466 - mae: 11.6703\n",
      "Epoch 18/20\n",
      "1/1 [==============================] - 0s 7ms/step - loss: 206.2919 - mae: 11.6435\n",
      "Epoch 19/20\n",
      "1/1 [==============================] - 0s 7ms/step - loss: 205.4430 - mae: 11.6167\n",
      "Epoch 20/20\n",
      "1/1 [==============================] - 0s 6ms/step - loss: 204.6005 - mae: 11.5900\n"
     ]
    },
    {
     "data": {
      "text/plain": [
       "11.542724303907304"
      ]
     },
     "execution_count": 16,
     "metadata": {},
     "output_type": "execute_result"
    }
   ],
   "source": [
    "X, y, X_test, y_test = allocate_data(2014)\n",
    "\n",
    "model = Sequential(\n",
    "    [\n",
    "        BatchNormalization(),\n",
    "        Dense(16, activation = 'relu', input_shape=(n_counties, n_features)),\n",
    "        Dense(16, activation = 'relu'),\n",
    "        Dense(1, activation = 'relu')\n",
    "    ]\n",
    ")\n",
    "\n",
    "model.compile(loss='mse', metrics=['mae'])\n",
    "model.fit(X, y, epochs=20)\n",
    "y_predicted = model.predict(X_test)\n",
    "np.mean(np.absolute(y_test - y_predicted[0,:,0]))"
   ]
  },
  {
   "cell_type": "code",
   "execution_count": 17,
   "id": "2dcb9c96",
   "metadata": {
    "scrolled": true
   },
   "outputs": [
    {
     "name": "stdout",
     "output_type": "stream",
     "text": [
      "Epoch 1/20\n",
      "1/1 [==============================] - 1s 573ms/step - loss: 233.5537 - mae: 12.3856\n",
      "Epoch 2/20\n",
      "1/1 [==============================] - 0s 7ms/step - loss: 232.4868 - mae: 12.3503\n",
      "Epoch 3/20\n",
      "1/1 [==============================] - 0s 7ms/step - loss: 231.4930 - mae: 12.3177\n",
      "Epoch 4/20\n",
      "1/1 [==============================] - 0s 7ms/step - loss: 230.5433 - mae: 12.2868\n",
      "Epoch 5/20\n",
      "1/1 [==============================] - 0s 6ms/step - loss: 229.6132 - mae: 12.2569\n",
      "Epoch 6/20\n",
      "1/1 [==============================] - 0s 7ms/step - loss: 228.6828 - mae: 12.2274\n",
      "Epoch 7/20\n",
      "1/1 [==============================] - 0s 9ms/step - loss: 227.7552 - mae: 12.1982\n",
      "Epoch 8/20\n",
      "1/1 [==============================] - 0s 9ms/step - loss: 226.8250 - mae: 12.1689\n",
      "Epoch 9/20\n",
      "1/1 [==============================] - 0s 9ms/step - loss: 225.8910 - mae: 12.1397\n",
      "Epoch 10/20\n",
      "1/1 [==============================] - 0s 9ms/step - loss: 224.9557 - mae: 12.1105\n",
      "Epoch 11/20\n",
      "1/1 [==============================] - 0s 8ms/step - loss: 224.0213 - mae: 12.0813\n",
      "Epoch 12/20\n",
      "1/1 [==============================] - 0s 9ms/step - loss: 223.0845 - mae: 12.0521\n",
      "Epoch 13/20\n",
      "1/1 [==============================] - 0s 6ms/step - loss: 222.1460 - mae: 12.0228\n",
      "Epoch 14/20\n",
      "1/1 [==============================] - 0s 7ms/step - loss: 221.2054 - mae: 11.9936\n",
      "Epoch 15/20\n",
      "1/1 [==============================] - 0s 6ms/step - loss: 220.2604 - mae: 11.9642\n",
      "Epoch 16/20\n",
      "1/1 [==============================] - 0s 6ms/step - loss: 219.3082 - mae: 11.9347\n",
      "Epoch 17/20\n",
      "1/1 [==============================] - 0s 6ms/step - loss: 218.3541 - mae: 11.9052\n",
      "Epoch 18/20\n",
      "1/1 [==============================] - 0s 6ms/step - loss: 217.3934 - mae: 11.8754\n",
      "Epoch 19/20\n",
      "1/1 [==============================] - 0s 5ms/step - loss: 216.4258 - mae: 11.8454\n",
      "Epoch 20/20\n",
      "1/1 [==============================] - 0s 7ms/step - loss: 215.4544 - mae: 11.8153\n"
     ]
    },
    {
     "data": {
      "text/plain": [
       "14.492452468172038"
      ]
     },
     "execution_count": 17,
     "metadata": {},
     "output_type": "execute_result"
    }
   ],
   "source": [
    "X, y, X_test, y_test = allocate_data(2015)\n",
    "\n",
    "model = Sequential(\n",
    "    [\n",
    "        BatchNormalization(),\n",
    "        Dense(16, activation = 'relu', input_shape=(n_counties, n_features)),\n",
    "        Dense(16, activation = 'relu'),\n",
    "        Dense(1, activation = 'relu')\n",
    "    ]\n",
    ")\n",
    "\n",
    "model.compile(loss='mse', metrics=['mae'])\n",
    "model.fit(X, y, epochs=20)\n",
    "y_predicted = model.predict(X_test)\n",
    "np.mean(np.absolute(y_test - y_predicted[0,:,0]))"
   ]
  },
  {
   "cell_type": "code",
   "execution_count": 18,
   "id": "a5e10974",
   "metadata": {
    "scrolled": true
   },
   "outputs": [
    {
     "name": "stdout",
     "output_type": "stream",
     "text": [
      "Epoch 1/20\n",
      "1/1 [==============================] - 1s 556ms/step - loss: 253.7768 - mae: 12.8147\n",
      "Epoch 2/20\n",
      "1/1 [==============================] - 0s 8ms/step - loss: 252.2426 - mae: 12.7697\n",
      "Epoch 3/20\n",
      "1/1 [==============================] - 0s 7ms/step - loss: 251.0105 - mae: 12.7336\n",
      "Epoch 4/20\n",
      "1/1 [==============================] - 0s 9ms/step - loss: 249.9228 - mae: 12.7018\n",
      "Epoch 5/20\n",
      "1/1 [==============================] - 0s 10ms/step - loss: 248.9267 - mae: 12.6725\n",
      "Epoch 6/20\n",
      "1/1 [==============================] - 0s 8ms/step - loss: 247.9890 - mae: 12.6450\n",
      "Epoch 7/20\n",
      "1/1 [==============================] - 0s 8ms/step - loss: 247.0941 - mae: 12.6187\n",
      "Epoch 8/20\n",
      "1/1 [==============================] - 0s 10ms/step - loss: 246.2301 - mae: 12.5933\n",
      "Epoch 9/20\n",
      "1/1 [==============================] - 0s 9ms/step - loss: 245.3905 - mae: 12.5686\n",
      "Epoch 10/20\n",
      "1/1 [==============================] - 0s 9ms/step - loss: 244.5665 - mae: 12.5443\n",
      "Epoch 11/20\n",
      "1/1 [==============================] - 0s 11ms/step - loss: 243.7532 - mae: 12.5202\n",
      "Epoch 12/20\n",
      "1/1 [==============================] - 0s 10ms/step - loss: 242.9469 - mae: 12.4963\n",
      "Epoch 13/20\n",
      "1/1 [==============================] - 0s 10ms/step - loss: 242.1461 - mae: 12.4724\n",
      "Epoch 14/20\n",
      "1/1 [==============================] - 0s 10ms/step - loss: 241.3472 - mae: 12.4485\n",
      "Epoch 15/20\n",
      "1/1 [==============================] - 0s 8ms/step - loss: 240.5492 - mae: 12.4246\n",
      "Epoch 16/20\n",
      "1/1 [==============================] - 0s 6ms/step - loss: 239.7514 - mae: 12.4005\n",
      "Epoch 17/20\n",
      "1/1 [==============================] - 0s 6ms/step - loss: 238.9507 - mae: 12.3763\n",
      "Epoch 18/20\n",
      "1/1 [==============================] - 0s 6ms/step - loss: 238.1472 - mae: 12.3520\n",
      "Epoch 19/20\n",
      "1/1 [==============================] - 0s 6ms/step - loss: 237.3392 - mae: 12.3273\n",
      "Epoch 20/20\n",
      "1/1 [==============================] - 0s 7ms/step - loss: 236.5264 - mae: 12.3025\n",
      "WARNING:tensorflow:5 out of the last 6 calls to <function Model.make_predict_function.<locals>.predict_function at 0x1517a8a60> triggered tf.function retracing. Tracing is expensive and the excessive number of tracings could be due to (1) creating @tf.function repeatedly in a loop, (2) passing tensors with different shapes, (3) passing Python objects instead of tensors. For (1), please define your @tf.function outside of the loop. For (2), @tf.function has experimental_relax_shapes=True option that relaxes argument shapes that can avoid unnecessary retracing. For (3), please refer to https://www.tensorflow.org/guide/function#controlling_retracing and https://www.tensorflow.org/api_docs/python/tf/function for  more details.\n"
     ]
    },
    {
     "data": {
      "text/plain": [
       "8.031283822564225"
      ]
     },
     "execution_count": 18,
     "metadata": {},
     "output_type": "execute_result"
    }
   ],
   "source": [
    "X, y, X_test, y_test = allocate_data(2016)\n",
    "\n",
    "model = Sequential(\n",
    "    [\n",
    "        BatchNormalization(),\n",
    "        Dense(16, activation = 'relu', input_shape=(n_counties, n_features)),\n",
    "        Dense(16, activation = 'relu'),\n",
    "        Dense(1, activation = 'relu')\n",
    "    ]\n",
    ")\n",
    "\n",
    "model.compile(loss='mse', metrics=['mae'])\n",
    "model.fit(X, y, epochs=20)\n",
    "y_predicted = model.predict(X_test)\n",
    "np.mean(np.absolute(y_test - y_predicted[0,:,0]))"
   ]
  },
  {
   "cell_type": "code",
   "execution_count": 20,
   "id": "ea9c5adf",
   "metadata": {
    "scrolled": true
   },
   "outputs": [
    {
     "name": "stdout",
     "output_type": "stream",
     "text": [
      "Epoch 1/20\n",
      "1/1 [==============================] - 1s 573ms/step - loss: 270.1657 - mae: 13.0632\n",
      "Epoch 2/20\n",
      "1/1 [==============================] - 0s 7ms/step - loss: 267.5700 - mae: 12.9883\n",
      "Epoch 3/20\n",
      "1/1 [==============================] - 0s 9ms/step - loss: 265.5840 - mae: 12.9306\n",
      "Epoch 4/20\n",
      "1/1 [==============================] - 0s 9ms/step - loss: 263.8583 - mae: 12.8801\n",
      "Epoch 5/20\n",
      "1/1 [==============================] - 0s 9ms/step - loss: 262.2806 - mae: 12.8337\n",
      "Epoch 6/20\n",
      "1/1 [==============================] - 0s 7ms/step - loss: 260.7978 - mae: 12.7897\n",
      "Epoch 7/20\n",
      "1/1 [==============================] - 0s 10ms/step - loss: 259.3823 - mae: 12.7476\n",
      "Epoch 8/20\n",
      "1/1 [==============================] - 0s 8ms/step - loss: 258.0136 - mae: 12.7066\n",
      "Epoch 9/20\n",
      "1/1 [==============================] - 0s 8ms/step - loss: 256.6794 - mae: 12.6665\n",
      "Epoch 10/20\n",
      "1/1 [==============================] - 0s 10ms/step - loss: 255.3681 - mae: 12.6269\n",
      "Epoch 11/20\n",
      "1/1 [==============================] - 0s 9ms/step - loss: 254.0728 - mae: 12.5876\n",
      "Epoch 12/20\n",
      "1/1 [==============================] - 0s 9ms/step - loss: 252.7904 - mae: 12.5485\n",
      "Epoch 13/20\n",
      "1/1 [==============================] - 0s 10ms/step - loss: 251.5175 - mae: 12.5095\n",
      "Epoch 14/20\n",
      "1/1 [==============================] - 0s 8ms/step - loss: 250.2473 - mae: 12.4704\n",
      "Epoch 15/20\n",
      "1/1 [==============================] - 0s 10ms/step - loss: 248.9819 - mae: 12.4313\n",
      "Epoch 16/20\n",
      "1/1 [==============================] - 0s 9ms/step - loss: 247.7137 - mae: 12.3920\n",
      "Epoch 17/20\n",
      "1/1 [==============================] - 0s 7ms/step - loss: 246.4462 - mae: 12.3525\n",
      "Epoch 18/20\n",
      "1/1 [==============================] - 0s 10ms/step - loss: 245.1744 - mae: 12.3127\n",
      "Epoch 19/20\n",
      "1/1 [==============================] - 0s 8ms/step - loss: 243.8989 - mae: 12.2727\n",
      "Epoch 20/20\n",
      "1/1 [==============================] - 0s 8ms/step - loss: 242.6182 - mae: 12.2324\n"
     ]
    },
    {
     "data": {
      "text/plain": [
       "8.412554303503452"
      ]
     },
     "execution_count": 20,
     "metadata": {},
     "output_type": "execute_result"
    }
   ],
   "source": [
    "X, y, X_test, y_test = allocate_data(2017)\n",
    "\n",
    "model = Sequential(\n",
    "    [\n",
    "        BatchNormalization(),\n",
    "        Dense(16, activation = 'relu', input_shape=(n_counties, n_features)),\n",
    "        Dense(16, activation = 'relu'),\n",
    "        Dense(1, activation = 'relu')\n",
    "    ]\n",
    ")\n",
    "\n",
    "model.compile(loss='mse', metrics=['mae'])\n",
    "model.fit(X, y, epochs=20)\n",
    "y_predicted = model.predict(X_test)\n",
    "np.mean(np.absolute(y_test - y_predicted[0,:,0]))"
   ]
  },
  {
   "cell_type": "code",
   "execution_count": 21,
   "id": "554a97a7",
   "metadata": {
    "scrolled": true
   },
   "outputs": [
    {
     "name": "stdout",
     "output_type": "stream",
     "text": [
      "Epoch 1/20\n",
      "1/1 [==============================] - 1s 569ms/step - loss: 289.0931 - mae: 13.5626\n",
      "Epoch 2/20\n",
      "1/1 [==============================] - 0s 10ms/step - loss: 286.4733 - mae: 13.4941\n",
      "Epoch 3/20\n",
      "1/1 [==============================] - 0s 11ms/step - loss: 284.4013 - mae: 13.4394\n",
      "Epoch 4/20\n",
      "1/1 [==============================] - 0s 10ms/step - loss: 282.5872 - mae: 13.3912\n",
      "Epoch 5/20\n",
      "1/1 [==============================] - 0s 11ms/step - loss: 280.9434 - mae: 13.3471\n",
      "Epoch 6/20\n",
      "1/1 [==============================] - 0s 13ms/step - loss: 279.4152 - mae: 13.3058\n",
      "Epoch 7/20\n",
      "1/1 [==============================] - 0s 12ms/step - loss: 277.9774 - mae: 13.2668\n",
      "Epoch 8/20\n",
      "1/1 [==============================] - 0s 11ms/step - loss: 276.6107 - mae: 13.2295\n",
      "Epoch 9/20\n",
      "1/1 [==============================] - 0s 12ms/step - loss: 275.3001 - mae: 13.1936\n",
      "Epoch 10/20\n",
      "1/1 [==============================] - 0s 11ms/step - loss: 274.0332 - mae: 13.1588\n",
      "Epoch 11/20\n",
      "1/1 [==============================] - 0s 14ms/step - loss: 272.7999 - mae: 13.1249\n",
      "Epoch 12/20\n",
      "1/1 [==============================] - 0s 10ms/step - loss: 271.5948 - mae: 13.0916\n",
      "Epoch 13/20\n",
      "1/1 [==============================] - 0s 8ms/step - loss: 270.4131 - mae: 13.0589\n",
      "Epoch 14/20\n",
      "1/1 [==============================] - 0s 9ms/step - loss: 269.2474 - mae: 13.0265\n",
      "Epoch 15/20\n",
      "1/1 [==============================] - 0s 9ms/step - loss: 268.0937 - mae: 12.9944\n",
      "Epoch 16/20\n",
      "1/1 [==============================] - 0s 9ms/step - loss: 266.9498 - mae: 12.9625\n",
      "Epoch 17/20\n",
      "1/1 [==============================] - 0s 9ms/step - loss: 265.8148 - mae: 12.9308\n",
      "Epoch 18/20\n",
      "1/1 [==============================] - 0s 9ms/step - loss: 264.6837 - mae: 12.8992\n",
      "Epoch 19/20\n",
      "1/1 [==============================] - 0s 9ms/step - loss: 263.5563 - mae: 12.8676\n",
      "Epoch 20/20\n",
      "1/1 [==============================] - 0s 9ms/step - loss: 262.4319 - mae: 12.8360\n"
     ]
    },
    {
     "data": {
      "text/plain": [
       "7.809440654331135"
      ]
     },
     "execution_count": 21,
     "metadata": {},
     "output_type": "execute_result"
    }
   ],
   "source": [
    "X, y, X_test, y_test = allocate_data(2018)\n",
    "\n",
    "model = Sequential(\n",
    "    [\n",
    "        BatchNormalization(),\n",
    "        Dense(16, activation = 'relu', input_shape=(n_counties, n_features)),\n",
    "        Dense(16, activation = 'relu'),\n",
    "        Dense(1, activation = 'relu')\n",
    "    ]\n",
    ")\n",
    "\n",
    "model.compile(loss='mse', metrics=['mae'])\n",
    "model.fit(X, y, epochs=20)\n",
    "y_predicted = model.predict(X_test)\n",
    "np.mean(np.absolute(y_test - y_predicted[0,:,0]))"
   ]
  }
 ],
 "metadata": {
  "kernelspec": {
   "display_name": "Python 3 (ipykernel)",
   "language": "python",
   "name": "python3"
  },
  "language_info": {
   "codemirror_mode": {
    "name": "ipython",
    "version": 3
   },
   "file_extension": ".py",
   "mimetype": "text/x-python",
   "name": "python",
   "nbconvert_exporter": "python",
   "pygments_lexer": "ipython3",
   "version": "3.8.1"
  }
 },
 "nbformat": 4,
 "nbformat_minor": 5
}
